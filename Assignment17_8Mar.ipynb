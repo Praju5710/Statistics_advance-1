{
 "cells": [
  {
   "cell_type": "markdown",
   "id": "863a4270-8750-47e7-98bf-b6e2c495347c",
   "metadata": {},
   "source": [
    "Q1. What is the Probability density function?"
   ]
  },
  {
   "cell_type": "markdown",
   "id": "bff73fb9-8bef-421d-9b55-01792808697a",
   "metadata": {},
   "source": [
    "#### The Probability Density Function (PDF) is a fundamental concept in probability theory and statistics. It describes the likelihood of a continuous random variable taking on a specific value within a given range. The PDF is associated with continuous probability distributions.\n",
    "#### For a continuous random variable, it has the following properties:\n",
    "##### Non-Negativity : f(x)≥0 . The PDF is non-negative for all values of x.\n",
    "##### Total Area under the Curve : The total area under the PDF curve over the entire range of possible values is equal to 1.\n",
    "##### Probability in an Interval : The probability that X falls within the interval [a,b] is given by the integral of the PDF over that interval.\n",
    "#### The PDF is used to describe the distribution of a continuous random variable and provides a way to calculate probabilities associated with different intervals. The cumulative distribution function (CDF) is obtained by integrating the PDF and represents the probability that the random variable is less than or equal to a particular value.\n",
    "#### Common examples of continuous probability distributions with associated PDFs include the normal distribution, exponential distribution, and uniform distribution."
   ]
  },
  {
   "cell_type": "markdown",
   "id": "07141547-0d03-4de4-842b-865dcb3cfc66",
   "metadata": {},
   "source": [
    "Q2. What are the types of Probability distribution?"
   ]
  },
  {
   "cell_type": "markdown",
   "id": "9275e615-8383-4d07-ba68-da3baaa606db",
   "metadata": {},
   "source": [
    "#### There are two main types of probability distributions: discrete and continuous.\n",
    "#### 1)  Discrete Probability Distribution:\n",
    "#### Definition: A discrete probability distribution describes the probabilities of distinct, separate outcomes in a discrete or countable set.\n",
    "#### Examples: Bernoulli distribution ,  Binomial distribution , Poisson distribution ,etc.\n",
    "#### 2) Continuous Probability Distribution:\n",
    "#### Definition: A continuous probability distribution describes the probabilities of outcomes in a continuous set or range.\n",
    "#### Examples: Normal distribution , Exponential distribution , Uniform distribution ,etc."
   ]
  },
  {
   "cell_type": "markdown",
   "id": "6f96118c-74b0-4904-a470-976f2fd443eb",
   "metadata": {},
   "source": [
    "Q3. Write a Python function to calculate the probability density function of a normal distribution with\n",
    "given mean and standard deviation at a given point."
   ]
  },
  {
   "cell_type": "code",
   "execution_count": 1,
   "id": "385abed4-044a-4e79-8f47-93badcb9169d",
   "metadata": {},
   "outputs": [],
   "source": [
    "from scipy.stats import norm"
   ]
  },
  {
   "cell_type": "code",
   "execution_count": 2,
   "id": "b5642fd1-7362-4308-817f-f53a58cbfd63",
   "metadata": {},
   "outputs": [],
   "source": [
    "def normal_pdf(x, mean, std):\n",
    "    pdf_value = norm.pdf(x, loc=mean, scale=std)\n",
    "    return pdf_value"
   ]
  },
  {
   "cell_type": "code",
   "execution_count": 4,
   "id": "253b54a5-d638-4ab4-ab65-8f74d7cad931",
   "metadata": {},
   "outputs": [
    {
     "name": "stdout",
     "output_type": "stream",
     "text": [
      "0.12951759566589174\n"
     ]
    }
   ],
   "source": [
    "pdf=normal_pdf(1.5,0,1)\n",
    "print(pdf)"
   ]
  },
  {
   "cell_type": "markdown",
   "id": "727fbeb3-99c8-4d43-9b31-000b4eee87d2",
   "metadata": {},
   "source": [
    "#### The pdf at x=1.5 is 0.12951759566589174 . "
   ]
  },
  {
   "cell_type": "markdown",
   "id": "4db5c922-ae48-4a6b-9749-7c94e59cf0a1",
   "metadata": {},
   "source": [
    "Q4. What are the properties of Binomial distribution? Give two examples of events where binomial\n",
    "distribution can be applied."
   ]
  },
  {
   "cell_type": "markdown",
   "id": "669f8d78-a527-48e6-8dba-8d7049ef4b7c",
   "metadata": {},
   "source": [
    "#### The binomial distribution is a discrete probability distribution that models the number of successes in a fixed number of independent and identical Bernoulli trials. The key properties of the binomial distribution are as follows:\n",
    "#### 1) Number of Trials (n): The distribution is characterized by a fixed number of trials, denoted as n, where each trial can result in one of two outcomes: success or failure.\n",
    "#### 2) Probability of Success (p): Each trial has a constant probability of success, denoted as p, and the probability of failure (q) is given by q=1−p.\n",
    "#### 3) Independence: The trials are assumed to be independent, meaning the outcome of one trial does not affect the outcome of another.\n",
    "#### 4) Discreteness: The random variable representing the number of successes, denoted as X, takes on discrete values from 0 to n.\n",
    "#### Two examples of events where the binomial distribution can be applied are:\n",
    "#### 1) Coin Flipping:\n",
    "#### Experiment: Tossing a fair coin repeatedly (n times).\n",
    "#### Outcome: Success (e.g., landing heads) or failure (e.g., landing tails).\n",
    "#### Parameters: n (number of tosses), p (probability of heads), q (probability of tails).\n",
    "#### Example Question: What is the probability of getting exactly 3 heads in 5 coin tosses?\n",
    "#### 2) Product Defects:\n",
    "#### Experiment: Inspecting a batch of products for defects (n products).\n",
    "#### Outcome: Success (e.g., defect) or failure (e.g., no defect).\n",
    "#### Parameters: n (number of products), p (probability of a defective product), q (probability of a non-defective product).\n",
    "#### Example Question: What is the probability that, out of 10 randomly selected products, exactly 2 are defective?"
   ]
  },
  {
   "cell_type": "markdown",
   "id": "ac0c0988-a262-46bf-8d6e-9ecda20fe5a2",
   "metadata": {},
   "source": [
    "Q5. Generate a random sample of size 1000 from a binomial distribution with probability of success 0.4\n",
    "and plot a histogram of the results using matplotlib."
   ]
  },
  {
   "cell_type": "code",
   "execution_count": 1,
   "id": "011adac2-9f43-46a1-a7dc-e81166591d57",
   "metadata": {},
   "outputs": [],
   "source": [
    "import numpy as np\n",
    "import matplotlib.pyplot as plt"
   ]
  },
  {
   "cell_type": "code",
   "execution_count": 2,
   "id": "d4480455-052b-4d16-9f52-5a99b18d3f76",
   "metadata": {},
   "outputs": [
    {
     "data": {
      "image/png": "[encoded data removed]",
      "text/plain": [
       "<Figure size 640x480 with 1 Axes>"
      ]
     },
     "metadata": {},
     "output_type": "display_data"
    }
   ],
   "source": [
    "n = 10  # Number of trials\n",
    "p = 0.4  # Probability of success\n",
    "# Generate a random sample of size 1000 from the binomial distribution\n",
    "random_sample = np.random.binomial(n, p, size=1000)\n",
    "# Plot the histogram\n",
    "plt.hist(random_sample, bins=np.arange(0, n+2) , density=True, alpha=0.75, color='blue', edgecolor='black')\n",
    "# Show the plot\n",
    "plt.show()"
   ]
  },
  {
   "cell_type": "markdown",
   "id": "34c55f62-4fe0-46a4-b4bb-c15f6ba3332e",
   "metadata": {},
   "source": [
    "Q6. Write a Python function to calculate the cumulative distribution function of a Poisson distribution\n",
    "with given mean at a given point."
   ]
  },
  {
   "cell_type": "code",
   "execution_count": 1,
   "id": "ae1365e5-1b5c-400a-9379-c2e713aa964f",
   "metadata": {},
   "outputs": [],
   "source": [
    "from scipy.stats import poisson"
   ]
  },
  {
   "cell_type": "code",
   "execution_count": 2,
   "id": "9cc553cc-cc56-4cdd-a63d-72c8657619fe",
   "metadata": {},
   "outputs": [],
   "source": [
    "def poisson_cdf(k, mean):\n",
    "    cdf_value = poisson.cdf(k, mu=mean)\n",
    "    return cdf_value"
   ]
  },
  {
   "cell_type": "code",
   "execution_count": 3,
   "id": "bd658b91-4b49-480a-ac99-e805ff8e4383",
   "metadata": {},
   "outputs": [
    {
     "data": {
      "text/plain": [
       "0.857123460498547"
      ]
     },
     "execution_count": 3,
     "metadata": {},
     "output_type": "execute_result"
    }
   ],
   "source": [
    "result = poisson_cdf(3,2)\n",
    "result"
   ]
  },
  {
   "cell_type": "markdown",
   "id": "3ebd2fa0-322a-48de-a217-a3562552fb0e",
   "metadata": {},
   "source": [
    "#### The cdf at k=3 is 0.857123460498547 ."
   ]
  },
  {
   "cell_type": "markdown",
   "id": "b567b9db-1de3-4707-8104-3d0574997d26",
   "metadata": {},
   "source": [
    "Q7. How Binomial distribution different from Poisson distribution?"
   ]
  },
  {
   "cell_type": "markdown",
   "id": "cc8782bd-91a7-4edc-b9db-63f622753503",
   "metadata": {},
   "source": [
    "#### Here are the key differences between the Binomial and Poisson distributions:\n",
    "#### 1) Number of Trials:\n",
    "##### Binomial Distribution: The Binomial distribution models the number of successes in a fixed number of independent and identical Bernoulli trials.\n",
    "##### Poisson Distribution: The Poisson distribution models the number of events occurring in a fixed interval of time or space, where events happen independently.\n",
    "#### 2) Nature of Events:\n",
    "##### Binomial Distribution: Each trial in a Binomial distribution has two possible outcomes: success or failure.\n",
    "##### Poisson Distribution: The Poisson distribution models events that occur randomly and independently, such as the number of phone calls in a call center in a fixed time period.\n",
    "#### 3) Assumptions:\n",
    "##### Binomial Distribution: Assumes a fixed number of trials (n), each with the same probability of success (p).\n",
    "##### Poisson Distribution: Assumes events occur randomly and independently, and the average rate of events (λ) is constant.\n",
    "#### 4) Parameter Interpretation:\n",
    "##### Binomial Distribution: Parameters are n (number of trials) and p (probability of success).\n",
    "##### Poisson Distribution: Parameter is λ (average rate of events).\n",
    "#### 5) Conditions for Approximation : The Poisson distribution is often used as an approximation to the Binomial distribution when the number of trials (n) is large, and the probability of success (p) is small, with λ=np being moderate."
   ]
  },
  {
   "cell_type": "markdown",
   "id": "d9905f4e-6b8f-4b47-9b21-52b16e38804a",
   "metadata": {},
   "source": [
    "Q8. Generate a random sample of size 1000 from a Poisson distribution with mean 5 and calculate the\n",
    "sample mean and variance."
   ]
  },
  {
   "cell_type": "code",
   "execution_count": 4,
   "id": "423ce9a6-cee5-4310-a637-e068ae7aac53",
   "metadata": {},
   "outputs": [],
   "source": [
    "import numpy as np"
   ]
  },
  {
   "cell_type": "code",
   "execution_count": 10,
   "id": "38d86b0d-f2f5-4659-a3f2-a2a44742dc43",
   "metadata": {},
   "outputs": [
    {
     "name": "stdout",
     "output_type": "stream",
     "text": [
      "sample_mean : 4.926\n",
      "sample_variance : 4.621145145145146\n"
     ]
    }
   ],
   "source": [
    "# Set the parameters for the Poisson distribution\n",
    "mean_value = 5\n",
    "# Generate a random sample of size 1000 from the Poisson distribution\n",
    "random_sample = np.random.poisson(mean_value, size=1000)\n",
    "# Calculate the sample mean and variance\n",
    "sample_mean = np.mean(random_sample)\n",
    "sample_variance = np.var(random_sample, ddof=1)  \n",
    "print(f\"sample_mean : {sample_mean}\")\n",
    "print(f\"sample_variance : {sample_variance}\")"
   ]
  },
  {
   "cell_type": "markdown",
   "id": "203978eb-58d0-4664-9b7b-5c1f38123588",
   "metadata": {},
   "source": [
    "Q9. How mean and variance are related in Binomial distribution and Poisson distribution?"
   ]
  },
  {
   "cell_type": "markdown",
   "id": "c4778af3-1668-4230-87a5-b14529016630",
   "metadata": {},
   "source": [
    "### Binomial Distribution:\n",
    "#### Mean=np where n is the number of trials and p is the probability of success on a single trial.\n",
    "#### Variance =np where q=1−p is the probability of failure on a single trial.\n",
    "#### In the Binomial distribution, the variance is directly proportional to the product of the number of trials (n) and the product of the probabilities of success and failure on a single trial (p and q).\n",
    "### Poisson Distribution:\n",
    "#### Mean =λ where λ is the average rate of events occurring in a fixed interval.\n",
    "#### Variance =λ\n",
    "#### In the Poisson distribution, the mean and variance are equal and both are given by the average rate parameter λ."
   ]
  },
  {
   "cell_type": "markdown",
   "id": "85f25f11-1d10-4ce0-b101-f601279e3307",
   "metadata": {},
   "source": [
    "Q10. In normal distribution with respect to mean position, where does the least frequent data appear?"
   ]
  },
  {
   "cell_type": "markdown",
   "id": "cc60e0d1-d767-4158-ae71-dafe8629ab11",
   "metadata": {},
   "source": [
    "#### In a normal distribution, which is symmetric, the least frequent data appears in the tails of the distribution, farthest away from the mean. Specifically:\n",
    "#### Least Frequent Data:\n",
    "##### The least frequent or extreme data points are located in the tails of the normal distribution.\n",
    "##### These are the values that deviate significantly from the mean.\n",
    "##### As we move farther away from the mean in either direction (to the left or right along the x-axis), the data becomes less frequent.\n",
    "#### Central Peak:\n",
    "##### The central peak of the normal distribution, where the mean is located, represents the most common or typical values.\n",
    "##### As we move away from the mean towards the tails, the frequency of data points decreases.\n",
    "#### Symmetry:\n",
    "##### The normal distribution is symmetric, meaning that the left and right tails are mirror images of each other.\n",
    "##### The tails extend indefinitely, but the probability of observing values far from the mean decreases rapidly.\n",
    "#### In a normal distribution, the least frequent data points are found in the tails, and the most frequent or typical values are clustered around the mean in the central peak."
   ]
  }
 ],
 "metadata": {
  "kernelspec": {
   "display_name": "Python 3 (ipykernel)",
   "language": "python",
   "name": "python3"
  },
  "language_info": {
   "codemirror_mode": {
    "name": "ipython",
    "version": 3
   },
   "file_extension": ".py",
   "mimetype": "text/x-python",
   "name": "python",
   "nbconvert_exporter": "python",
   "pygments_lexer": "ipython3",
   "version": "3.10.8"
  }
 },
 "nbformat": 4,
 "nbformat_minor": 5
}
